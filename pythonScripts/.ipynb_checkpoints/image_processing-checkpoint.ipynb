{
 "cells": [
  {
   "cell_type": "code",
   "execution_count": 53,
   "metadata": {
    "collapsed": true
   },
   "outputs": [],
   "source": [
    "from PIL import Image\n",
    "import numpy as np\n",
    "import matplotlib.pyplot as plt\n",
    "%matplotlib inline\n",
    "\n",
    "# "
   ]
  },
  {
   "cell_type": "markdown",
   "metadata": {},
   "source": [
    "__[Data Types](http://scikit-image.org/docs/dev/user_guide/data_types.html)__\n",
    "\n",
    "### Data type range\n",
    "- uint8__:  0 to 255\n",
    "- uint16_:\t0 to 65535\n",
    "- uint32_:\t0 to 232\n",
    "- float__:  -1 to 1 or 0 to 1\n",
    "- int8___:\t-128 to 127\n",
    "- int16__:  -32768 to 32767\n",
    "- int32__:  -231 to 231 - 1"
   ]
  },
  {
   "cell_type": "code",
   "execution_count": 75,
   "metadata": {
    "collapsed": true
   },
   "outputs": [],
   "source": [
    "img_fp = '/Users/newberry/Desktop/atlas_data/'\n",
    "img_fp_extns = img_fp+'*.{tif}'\n",
    "\n",
    "\n",
    "# img = imread(img_fp)\n",
    "# print img.dtype\n",
    "\n",
    "# plt.imshow(img, cmap=plt.cm.gray);"
   ]
  },
  {
   "cell_type": "code",
   "execution_count": 79,
   "metadata": {},
   "outputs": [],
   "source": [
    "x = ! ls $img_fp_extns"
   ]
  },
  {
   "cell_type": "markdown",
   "metadata": {},
   "source": [
    "# Loading data from mnist"
   ]
  },
  {
   "cell_type": "code",
   "execution_count": null,
   "metadata": {
    "collapsed": true
   },
   "outputs": [],
   "source": []
  },
  {
   "cell_type": "code",
   "execution_count": 36,
   "metadata": {},
   "outputs": [
    {
     "name": "stdout",
     "output_type": "stream",
     "text": [
      "width: 28\n",
      "height: 28\n"
     ]
    }
   ],
   "source": [
    "# Loading tensor-flow dataset image\n",
    "import tensorflow as tf\n",
    "mnist = tf.keras.datasets.mnist\n",
    "\n",
    "(x_train, y_train),(x_test, y_test) = mnist.load_data()\n",
    "\n",
    "data = x_test[0]\n",
    "width, height = np.shape(data)\n",
    "\n",
    "print 'width:',width\n",
    "print 'height:',height"
   ]
  },
  {
   "cell_type": "code",
   "execution_count": 52,
   "metadata": {},
   "outputs": [
    {
     "name": "stdout",
     "output_type": "stream",
     "text": [
      "[  0   0   0   0   0   0 222 254 254 254 254 254 254 254 254 254 254 254\n",
      " 254 255 254 140   0   0   0   0   0   0] \n",
      "\n",
      "[  0   0   0   0   0   0   0 185 254 254 254 253 255 254 254 254 248 254\n",
      " 251 254 254 254 254 254 254 254 254   0] \n",
      "\n",
      "255\n"
     ]
    }
   ],
   "source": [
    "# Finding maximum value in a 3D array, create arrays of highest values. \n",
    "# data.max(axis=0) will return a row of the highest values in each column\n",
    "row_of_max_colVals = data.max(axis=0)\n",
    "col_of_max_rowVals = data.max(axis=1)\n",
    "\n",
    "print row_of_max_colVals,'\\n'\n",
    "\n",
    "print col_of_max_rowVals,'\\n'\n",
    "\n",
    "print max(row_of_max_colVals)"
   ]
  },
  {
   "cell_type": "code",
   "execution_count": 43,
   "metadata": {},
   "outputs": [
    {
     "data": {
      "image/png": "[encoded data removed]",
      "text/plain": [
       "<Figure size 432x288 with 1 Axes>"
      ]
     },
     "metadata": {},
     "output_type": "display_data"
    }
   ],
   "source": [
    "# If you don't specify this colormap as being composed of greys then the image wil be weird\n",
    "plt.imshow(data)\n",
    "# Now it will display properly\n",
    "plt.imshow(data, cmap='Greys_r')\n",
    "\n",
    "# This will automatically convert to greyscale, identical to previous command\n",
    "img = Image.fromarray(data)\n",
    "#plt.imshow(img)"
   ]
  },
  {
   "cell_type": "code",
   "execution_count": null,
   "metadata": {
    "collapsed": true
   },
   "outputs": [],
   "source": []
  }
 ],
 "metadata": {
  "kernelspec": {
   "display_name": "Python 2",
   "language": "python",
   "name": "python2"
  },
  "language_info": {
   "codemirror_mode": {
    "name": "ipython",
    "version": 2
   },
   "file_extension": ".py",
   "mimetype": "text/x-python",
   "name": "python",
   "nbconvert_exporter": "python",
   "pygments_lexer": "ipython2",
   "version": "2.7.14"
  }
 },
 "nbformat": 4,
 "nbformat_minor": 2
}
