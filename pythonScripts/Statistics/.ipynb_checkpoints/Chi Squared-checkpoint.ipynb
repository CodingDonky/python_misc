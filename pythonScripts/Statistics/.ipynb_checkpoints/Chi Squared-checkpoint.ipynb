{
 "cells": [
  {
   "cell_type": "code",
   "execution_count": 25,
   "metadata": {},
   "outputs": [
    {
     "name": "stdout",
     "output_type": "stream",
     "text": [
      "14\n"
     ]
    }
   ],
   "source": [
    "data_expected = [22,22,22,22]\n",
    "data_observed = [27,20,8,33]\n",
    "dataset_length = len(data_expected)\n",
    "\n",
    "chi_squared = 0\n",
    "\n",
    "# Loops 4 times. datapoint = 0, 1, 2, 3.\n",
    "for datapoint in range (0,dataset_length):\n",
    "    E = data_expected[datapoint]\n",
    "    O = data_observed[datapoint]\n",
    "\n",
    "    chi_squared += ((O-E)**2)/E\n",
    "    \n",
    "print chi_squared\n",
    "    "
   ]
  },
  {
   "cell_type": "code",
   "execution_count": null,
   "metadata": {
    "collapsed": true
   },
   "outputs": [],
   "source": []
  }
 ],
 "metadata": {
  "kernelspec": {
   "display_name": "Python 2",
   "language": "python",
   "name": "python2"
  },
  "language_info": {
   "codemirror_mode": {
    "name": "ipython",
    "version": 2
   },
   "file_extension": ".py",
   "mimetype": "text/x-python",
   "name": "python",
   "nbconvert_exporter": "python",
   "pygments_lexer": "ipython2",
   "version": "2.7.14"
  }
 },
 "nbformat": 4,
 "nbformat_minor": 2
}
