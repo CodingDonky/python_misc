{
 "cells": [
  {
   "cell_type": "markdown",
   "metadata": {},
   "source": [
    "# Chi-Squared\n",
    "Chi-squared analysis done twice. First written by me. Second done with a library.\n",
    "\n",
    "Premise:\n",
    "\n",
    "Data from a statistics textbook. Represents expected number of births each season and actual \n",
    "recorded number of births. Expected number is proportional to the length of the season, this\n",
    "assumes it equally likely to be born on any day but some seasons are longer than others.\n",
    "\n",
    "P Value\n",
    "\n",
    "- `0.01 > pVal `:    Very strong evidence against the null hypothesis.\n",
    "- `0.05 > pVal > 0.01`: Strong evidence against the null hypothesis.\n",
    "- `0.10 > pVal > 0.05`: Some weak evidence against the null hypothesis.\n",
    "- `pVal > 0.10`: Little to know evidence against the null hypothesis."
   ]
  },
  {
   "cell_type": "code",
   "execution_count": 49,
   "metadata": {},
   "outputs": [
    {
     "name": "stdout",
     "output_type": "stream",
     "text": [
      "Chi-Squared value is:  6.15677179963\n"
     ]
    }
   ],
   "source": [
    "data_expected = [22,15,14.7,36.3]\n",
    "data_observed = [27,20,8,33]\n",
    "dataset_length = len(data_expected)\n",
    "\n",
    "chi_squared = 0\n",
    "\n",
    "# Loops 4 times. datapoint = 0, 1, 2, 3.\n",
    "for datapoint in range (0,dataset_length):\n",
    "    E = float( data_expected[datapoint] )\n",
    "    O = float( data_observed[datapoint] )\n",
    "\n",
    "    chi_squared += ((O-E)**2)/E\n",
    "    \n",
    "print 'Chi-Squared value is: ',chi_squared\n",
    "    "
   ]
  },
  {
   "cell_type": "code",
   "execution_count": 48,
   "metadata": {},
   "outputs": [
    {
     "name": "stdout",
     "output_type": "stream",
     "text": [
      "Chi-Squared value is:  6.15677179963\n",
      "P-val is:  0.104227120791\n"
     ]
    }
   ],
   "source": [
    "from scipy.stats import chisquare\n",
    "\n",
    "[chi_squared, pVal] = chisquare(data_observed, f_exp=data_expected)\n",
    "print 'Chi-Squared value is: ',chi_squared\n",
    "print 'P-val is: ',pVal "
   ]
  },
  {
   "cell_type": "code",
   "execution_count": 50,
   "metadata": {},
   "outputs": [
    {
     "name": "stdout",
     "output_type": "stream",
     "text": [
      "Chi-Squared value is:  15.7272727273\n",
      "P-val is:  0.00128971986351\n"
     ]
    }
   ],
   "source": [
    "data_expected = [22,22,22,22]\n",
    "data_observed = [27,20,8,33]\n",
    "[chi_squared, pVal] = chisquare(data_observed, f_exp=data_expected)\n",
    "print 'Chi-Squared value is: ',chi_squared\n",
    "print 'P-val is: ',pVal "
   ]
  },
  {
   "cell_type": "code",
   "execution_count": null,
   "metadata": {
    "collapsed": true
   },
   "outputs": [],
   "source": []
  }
 ],
 "metadata": {
  "kernelspec": {
   "display_name": "Python 2",
   "language": "python",
   "name": "python2"
  },
  "language_info": {
   "codemirror_mode": {
    "name": "ipython",
    "version": 2
   },
   "file_extension": ".py",
   "mimetype": "text/x-python",
   "name": "python",
   "nbconvert_exporter": "python",
   "pygments_lexer": "ipython2",
   "version": "2.7.14"
  }
 },
 "nbformat": 4,
 "nbformat_minor": 2
}
