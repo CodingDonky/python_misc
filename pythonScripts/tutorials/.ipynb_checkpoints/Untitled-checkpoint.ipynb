{
 "cells": [
  {
   "cell_type": "code",
   "execution_count": 12,
   "metadata": {},
   "outputs": [
    {
     "name": "stdout",
     "output_type": "stream",
     "text": [
      "Entire Doc:\n",
      "[{'martin': {'skills': ['python', 'perl', 'pascal'], 'job': 'Developer', 'name': \"Martin D'vloper\"}}, {'tabitha': {'skills': ['lisp', 'fortran', 'erlang'], 'job': 'Developer', 'name': 'Tabitha Bitumen'}}]\n",
      "\n",
      "doc[0]\n",
      "{'martin': {'skills': ['python', 'perl', 'pascal'], 'job': 'Developer', 'name': \"Martin D'vloper\"}}\n",
      "\n",
      "doc[0]['martin']\n",
      "{'skills': ['python', 'perl', 'pascal'], 'job': 'Developer', 'name': \"Martin D'vloper\"}\n",
      "\n",
      "doc[0]['martin']['skills']\n",
      "['python', 'perl', 'pascal']\n",
      "\n",
      "doc[0]['martin']['job']\n",
      "Developer\n"
     ]
    }
   ],
   "source": [
    "import yaml\n",
    "with open('employee.yml', 'r') as f:\n",
    "    doc = yaml.load(f)\n",
    "    \n",
    "print 'Entire Doc:'\n",
    "print doc\n",
    "\n",
    "print ''\n",
    "print 'doc[0]'\n",
    "print doc[0]\n",
    "\n",
    "print ''\n",
    "print 'doc[0][\\'martin\\']'\n",
    "print doc[0]['martin']\n",
    "\n",
    "print ''\n",
    "print 'doc[0][\\'martin\\'][\\'skills\\']'\n",
    "print doc[0]['martin']['skills']\n",
    "\n",
    "print ''\n",
    "print 'doc[0][\\'martin\\'][\\'job\\']'\n",
    "print doc[0]['martin']['job']"
   ]
  },
  {
   "cell_type": "code",
   "execution_count": 5,
   "metadata": {},
   "outputs": [
    {
     "ename": "TypeError",
     "evalue": "list indices must be integers, not str",
     "output_type": "error",
     "traceback": [
      "\u001b[0;31m---------------------------------------------------------------------------\u001b[0m",
      "\u001b[0;31mTypeError\u001b[0m                                 Traceback (most recent call last)",
      "\u001b[0;32m<ipython-input-5-bf136df82624>\u001b[0m in \u001b[0;36m<module>\u001b[0;34m()\u001b[0m\n\u001b[0;32m----> 1\u001b[0;31m \u001b[0mdoc\u001b[0m\u001b[0;34m[\u001b[0m\u001b[0;34m'martin'\u001b[0m\u001b[0;34m]\u001b[0m\u001b[0;34m\u001b[0m\u001b[0m\n\u001b[0m",
      "\u001b[0;31mTypeError\u001b[0m: list indices must be integers, not str"
     ]
    }
   ],
   "source": [
    "doc['martin']"
   ]
  },
  {
   "cell_type": "code",
   "execution_count": null,
   "metadata": {
    "collapsed": true
   },
   "outputs": [],
   "source": []
  }
 ],
 "metadata": {
  "kernelspec": {
   "display_name": "Python 2",
   "language": "python",
   "name": "python2"
  },
  "language_info": {
   "codemirror_mode": {
    "name": "ipython",
    "version": 2
   },
   "file_extension": ".py",
   "mimetype": "text/x-python",
   "name": "python",
   "nbconvert_exporter": "python",
   "pygments_lexer": "ipython2",
   "version": "2.7.14"
  }
 },
 "nbformat": 4,
 "nbformat_minor": 2
}
