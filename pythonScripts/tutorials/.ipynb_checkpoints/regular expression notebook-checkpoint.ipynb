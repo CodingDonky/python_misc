{
 "cells": [
  {
   "cell_type": "code",
   "execution_count": 4,
   "metadata": {
    "collapsed": true
   },
   "outputs": [],
   "source": [
    "import re\n",
    "s=\"MD662&661-F1-2017.06.02-17.07.55_MD662_1_0001\""
   ]
  },
  {
   "cell_type": "code",
   "execution_count": 47,
   "metadata": {},
   "outputs": [
    {
     "name": "stdout",
     "output_type": "stream",
     "text": [
      "MD662&661-F1-2017.06.02-17.07.55\n",
      "MD662\n",
      "17.07.55\n"
     ]
    }
   ],
   "source": [
    "pat=re.compile(r'(\\w{2}\\d{3}).*-(\\d{2}\\.\\d{2}\\.\\d{2})')\n",
    "m=pat.search(s)\n",
    "if m:\n",
    "    #print(m)\n",
    "    #print(m.groups())\n",
    "    print(m.group(0))\n",
    "    print(m.group(1))\n",
    "    print(m.group(2))"
   ]
  },
  {
   "cell_type": "code",
   "execution_count": 56,
   "metadata": {},
   "outputs": [
    {
     "name": "stdout",
     "output_type": "stream",
     "text": [
      "Full slice name: MD662&661-F1-2017.06.02-17.07.55_MD662_1_0001\n",
      "Stack name:      MD662\n",
      "Scan date:       2017.06.02\n",
      "Upload date:     17.07.55\n",
      "Slice number:    1\n",
      "Scane index:     0001\n"
     ]
    }
   ],
   "source": [
    "pat=re.compile(r'(\\w{2}\\d{3}).*-(\\d{4}\\.\\d{2}\\.\\d{2})-(\\d{2}\\.\\d{2}\\.\\d{2}).*(\\d{1})_(\\d{4})')\n",
    "m=pat.search(s)\n",
    "if m:\n",
    "    print('Full slice name: '+m.group(0))\n",
    "    print('Stack name:      '+m.group(1))\n",
    "    print('Scan date:       '+m.group(2))\n",
    "    print('Upload date:     '+m.group(3))\n",
    "    print('Slice number:    '+m.group(4))\n",
    "    print('Scan index:     '+m.group(5))"
   ]
  },
  {
   "cell_type": "code",
   "execution_count": 26,
   "metadata": {},
   "outputs": [
    {
     "name": "stdout",
     "output_type": "stream",
     "text": [
      "No match\n"
     ]
    }
   ],
   "source": [
    "# Finding a matching string\n",
    "p = re.compile( 'brown' )\n",
    "m = p.match( 'the brown dog' )\n",
    "if m:\n",
    "    print('Match found: ', m.group())\n",
    "else:\n",
    "    print('No match')"
   ]
  },
  {
   "cell_type": "code",
   "execution_count": 17,
   "metadata": {},
   "outputs": [
    {
     "data": {
      "text/plain": [
       "['12', '11', '10']"
      ]
     },
     "execution_count": 17,
     "metadata": {},
     "output_type": "execute_result"
    }
   ],
   "source": [
    "# Finding location of matching string\n",
    "p = re.compile(r'\\d+')\n",
    "p.findall('12 drummers drumming, 11 pipers piping, 10 lords a-leaping')"
   ]
  },
  {
   "cell_type": "code",
   "execution_count": 36,
   "metadata": {},
   "outputs": [
    {
     "data": {
      "text/plain": [
       "['drumm', 'drumm']"
      ]
     },
     "execution_count": 36,
     "metadata": {},
     "output_type": "execute_result"
    }
   ],
   "source": [
    "# Finding location of matching string\n",
    "p = re.compile(r'drum+')\n",
    "p.findall('12 drummers drumming, 11 pipers piping, 10 lords a-leaping')"
   ]
  },
  {
   "cell_type": "code",
   "execution_count": 39,
   "metadata": {},
   "outputs": [
    {
     "name": "stdout",
     "output_type": "stream",
     "text": [
      "No match!!\n",
      "('search --> searchObj.group() : ', 'dogs')\n"
     ]
    }
   ],
   "source": [
    "line = \"Cats are smarter than dogs\";\n",
    "\n",
    "matchObj = re.match( r'dogs', line, re.M|re.I)\n",
    "if matchObj:\n",
    "    print(\"match --> matchObj.group() : \", matchObj.group())\n",
    "else:\n",
    "    print(\"No match!!\")\n",
    "\n",
    "searchObj = re.search( r'dogs', line, re.M|re.I)\n",
    "if searchObj:\n",
    "    print(\"search --> searchObj.group() : \", searchObj.group())\n",
    "else:\n",
    "    print(\"Nothing found!!\")"
   ]
  },
  {
   "cell_type": "code",
   "execution_count": 40,
   "metadata": {},
   "outputs": [
    {
     "name": "stdout",
     "output_type": "stream",
     "text": [
      "Phone Num :  2004-959-559 \n",
      "Phone Num :  2004959559\n"
     ]
    }
   ],
   "source": [
    "phone = \"2004-959-559 # This is Phone Number\"\n",
    "\n",
    "# Delete Python-style comments\n",
    "num = re.sub(r'#.*$', \"\", phone)\n",
    "print \"Phone Num : \", num\n",
    "\n",
    "# Remove anything other than digits\n",
    "num = re.sub(r'\\D', \"\", phone)    \n",
    "print \"Phone Num : \", num"
   ]
  },
  {
   "cell_type": "code",
   "execution_count": null,
   "metadata": {
    "collapsed": true
   },
   "outputs": [],
   "source": []
  }
 ],
 "metadata": {
  "kernelspec": {
   "display_name": "Python 2",
   "language": "python",
   "name": "python2"
  },
  "language_info": {
   "codemirror_mode": {
    "name": "ipython",
    "version": 2
   },
   "file_extension": ".py",
   "mimetype": "text/x-python",
   "name": "python",
   "nbconvert_exporter": "python",
   "pygments_lexer": "ipython2",
   "version": "2.7.14"
  }
 },
 "nbformat": 4,
 "nbformat_minor": 2
}
