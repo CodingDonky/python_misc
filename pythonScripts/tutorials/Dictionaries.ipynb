{
 "cells": [
  {
   "cell_type": "code",
   "execution_count": 40,
   "metadata": {},
   "outputs": [
    {
     "name": "stdout",
     "output_type": "stream",
     "text": [
      "{'cherry': 'red', 'apple': 'blue', 'banana': 'yellow'}\n",
      "{'cherry': 'red', 'apple': 'red', 'banana': 'yellow'}\n"
     ]
    }
   ],
   "source": [
    "thisdict = {\n",
    "  \"apple\": \"blue\",\n",
    "  \"banana\": \"yellow\",\n",
    "  \"cherry\": \"red\"\n",
    "}\n",
    "print(thisdict)\n",
    "thisdict[\"apple\"] = \"red\"\n",
    "print(thisdict)"
   ]
  },
  {
   "cell_type": "code",
   "execution_count": 42,
   "metadata": {},
   "outputs": [
    {
     "name": "stdout",
     "output_type": "stream",
     "text": [
      "{'cherry': 'red', 'banana': 'yellow', 'apple': 'green'}\n",
      "{'damson': 'purple', 'cherry': 'red', 'banana': 'yellow', 'apple': 'green'}\n"
     ]
    }
   ],
   "source": [
    "thatdict = dict(apple=\"green\", banana=\"yellow\", cherry=\"red\")\n",
    "# note that keywords are not string literals\n",
    "# note the use of equals rather than colon for the assignment\n",
    "print(thatdict)\n",
    "thatdict[\"damson\"] = \"purple\"\n",
    "print(thatdict)"
   ]
  },
  {
   "cell_type": "code",
   "execution_count": 45,
   "metadata": {},
   "outputs": [
    {
     "name": "stdout",
     "output_type": "stream",
     "text": [
      "{'cherry': 'red', 'banana': 'yellow', 'apple': 'green'}\n",
      "3\n",
      "{'cherry': 'red', 'apple': 'green'}\n",
      "2\n"
     ]
    }
   ],
   "source": [
    "thisdict = dict(apple=\"green\", banana=\"yellow\", cherry=\"red\")\n",
    "print(thisdict)\n",
    "print(len(thisdict))\n",
    "del(thisdict[\"banana\"])\n",
    "print(thisdict)\n",
    "print(len(thisdict))"
   ]
  },
  {
   "cell_type": "code",
   "execution_count": null,
   "metadata": {
    "collapsed": true
   },
   "outputs": [],
   "source": []
  }
 ],
 "metadata": {
  "kernelspec": {
   "display_name": "Python 2",
   "language": "python",
   "name": "python2"
  },
  "language_info": {
   "codemirror_mode": {
    "name": "ipython",
    "version": 2
   },
   "file_extension": ".py",
   "mimetype": "text/x-python",
   "name": "python",
   "nbconvert_exporter": "python",
   "pygments_lexer": "ipython2",
   "version": "2.7.14"
  }
 },
 "nbformat": 4,
 "nbformat_minor": 2
}
