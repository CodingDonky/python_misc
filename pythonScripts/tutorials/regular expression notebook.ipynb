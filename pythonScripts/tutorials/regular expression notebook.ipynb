{
 "cells": [
  {
   "cell_type": "code",
   "execution_count": 1,
   "metadata": {
    "collapsed": true
   },
   "outputs": [],
   "source": [
    "import re\n",
    "s=\"MD662&661-F1-2017.06.02-17.07.55_MD662_1_0001\""
   ]
  },
  {
   "cell_type": "code",
   "execution_count": 2,
   "metadata": {},
   "outputs": [
    {
     "name": "stdout",
     "output_type": "stream",
     "text": [
      "MD662&661-F1-2017.06.02-17.07.55\n",
      "MD662\n",
      "17.07.55\n"
     ]
    }
   ],
   "source": [
    "pat=re.compile(r'(\\w{2}\\d{3}).*-(\\d{2}\\.\\d{2}\\.\\d{2})')\n",
    "m=pat.search(s)\n",
    "if m:\n",
    "    #print(m)\n",
    "    #print(m.groups())\n",
    "    print(m.group(0))\n",
    "    print(m.group(1))\n",
    "    print(m.group(2))"
   ]
  },
  {
   "cell_type": "code",
   "execution_count": 56,
   "metadata": {},
   "outputs": [
    {
     "name": "stdout",
     "output_type": "stream",
     "text": [
      "Full slice name: MD662&661-F1-2017.06.02-17.07.55_MD662_1_0001\n",
      "Stack name:      MD662\n",
      "Scan date:       2017.06.02\n",
      "Upload date:     17.07.55\n",
      "Slice number:    1\n",
      "Scane index:     0001\n"
     ]
    }
   ],
   "source": [
    "s=\"MD662&661-F1-2017.06.02-17.07.55_MD662_1_0001\"\n",
    "pat=re.compile(r'(\\w{2}\\d{3}).*-(\\d{4}\\.\\d{2}\\.\\d{2})-(\\d{2}\\.\\d{2}\\.\\d{2}).*(\\d{1})_(\\d{4})')\n",
    "m=pat.search(s)\n",
    "if m:\n",
    "    print('Full slice name: '+m.group(0))\n",
    "    print('Stack name:      '+m.group(1))\n",
    "    print('Scan date:       '+m.group(2))\n",
    "    print('Upload date:     '+m.group(3))\n",
    "    print('Slice number:    '+m.group(4))\n",
    "    print('Scene index:     '+m.group(5))"
   ]
  },
  {
   "cell_type": "code",
   "execution_count": 26,
   "metadata": {},
   "outputs": [
    {
     "name": "stdout",
     "output_type": "stream",
     "text": [
      "No match\n"
     ]
    }
   ],
   "source": [
    "# Finding a matching string\n",
    "p = re.compile( 'brown' )\n",
    "m = p.match( 'the brown dog' )\n",
    "if m:\n",
    "    print('Match found: ', m.group())\n",
    "else:\n",
    "    print('No match')"
   ]
  },
  {
   "cell_type": "code",
   "execution_count": 17,
   "metadata": {},
   "outputs": [
    {
     "data": {
      "text/plain": [
       "['12', '11', '10']"
      ]
     },
     "execution_count": 17,
     "metadata": {},
     "output_type": "execute_result"
    }
   ],
   "source": [
    "# Finding location of matching string\n",
    "p = re.compile(r'\\d+')\n",
    "p.findall('12 drummers drumming, 11 pipers piping, 10 lords a-leaping')"
   ]
  },
  {
   "cell_type": "code",
   "execution_count": 36,
   "metadata": {},
   "outputs": [
    {
     "data": {
      "text/plain": [
       "['drumm', 'drumm']"
      ]
     },
     "execution_count": 36,
     "metadata": {},
     "output_type": "execute_result"
    }
   ],
   "source": [
    "# Finding location of matching string\n",
    "p = re.compile(r'drum+')\n",
    "p.findall('12 drummers drumming, 11 pipers piping, 10 lords a-leaping')"
   ]
  },
  {
   "cell_type": "code",
   "execution_count": 39,
   "metadata": {},
   "outputs": [
    {
     "name": "stdout",
     "output_type": "stream",
     "text": [
      "No match!!\n",
      "('search --> searchObj.group() : ', 'dogs')\n"
     ]
    }
   ],
   "source": [
    "line = \"Cats are smarter than dogs\";\n",
    "\n",
    "matchObj = re.match( r'dogs', line, re.M|re.I)\n",
    "if matchObj:\n",
    "    print(\"match --> matchObj.group() : \", matchObj.group())\n",
    "else:\n",
    "    print(\"No match!!\")\n",
    "\n",
    "searchObj = re.search( r'dogs', line, re.M|re.I)\n",
    "if searchObj:\n",
    "    print(\"search --> searchObj.group() : \", searchObj.group())\n",
    "else:\n",
    "    print(\"Nothing found!!\")"
   ]
  },
  {
   "cell_type": "code",
   "execution_count": 40,
   "metadata": {},
   "outputs": [
    {
     "name": "stdout",
     "output_type": "stream",
     "text": [
      "Phone Num :  2004-959-559 \n",
      "Phone Num :  2004959559\n"
     ]
    }
   ],
   "source": [
    "phone = \"2004-959-559 # This is Phone Number\"\n",
    "\n",
    "# Delete Python-style comments\n",
    "num = re.sub(r'#.*$', \"\", phone)\n",
    "print \"Phone Num : \", num\n",
    "\n",
    "# Remove anything other than digits\n",
    "num = re.sub(r'\\D', \"\", phone)    \n",
    "print \"Phone Num : \", num"
   ]
  },
  {
   "cell_type": "code",
   "execution_count": 3,
   "metadata": {},
   "outputs": [
    {
     "ename": "CalledProcessError",
     "evalue": "Command '['aws', '--profile', 'sandbox', 's3', 'ls', 's3://mousebrainatlas-data/']' returned non-zero exit status 255",
     "output_type": "error",
     "traceback": [
      "\u001b[0;31m---------------------------------------------------------------------------\u001b[0m",
      "\u001b[0;31mCalledProcessError\u001b[0m                        Traceback (most recent call last)",
      "\u001b[0;32m<ipython-input-3-bd02a71fc98b>\u001b[0m in \u001b[0;36m<module>\u001b[0;34m()\u001b[0m\n\u001b[1;32m      5\u001b[0m \u001b[0;31m# subprocess.check_output(command.split())\u001b[0m\u001b[0;34m\u001b[0m\u001b[0;34m\u001b[0m\u001b[0m\n\u001b[1;32m      6\u001b[0m \u001b[0mcommand\u001b[0m \u001b[0;34m=\u001b[0m \u001b[0;34m'aws --profile sandbox s3 ls s3://mousebrainatlas-data/'\u001b[0m\u001b[0;34m\u001b[0m\u001b[0m\n\u001b[0;32m----> 7\u001b[0;31m \u001b[0msubprocess\u001b[0m\u001b[0;34m.\u001b[0m\u001b[0mcheck_output\u001b[0m\u001b[0;34m(\u001b[0m\u001b[0mcommand\u001b[0m\u001b[0;34m.\u001b[0m\u001b[0msplit\u001b[0m\u001b[0;34m(\u001b[0m\u001b[0;34m)\u001b[0m\u001b[0;34m)\u001b[0m\u001b[0;34m\u001b[0m\u001b[0m\n\u001b[0m\u001b[1;32m      8\u001b[0m \u001b[0msubprocess\u001b[0m\u001b[0;34m.\u001b[0m\u001b[0mPopen\u001b[0m\u001b[0;34m(\u001b[0m\u001b[0mcommand\u001b[0m\u001b[0;34m.\u001b[0m\u001b[0msplit\u001b[0m\u001b[0;34m(\u001b[0m\u001b[0;34m)\u001b[0m\u001b[0;34m)\u001b[0m\u001b[0;34m\u001b[0m\u001b[0m\n",
      "\u001b[0;32m/Users/newberry/anaconda2/lib/python2.7/subprocess.pyc\u001b[0m in \u001b[0;36mcheck_output\u001b[0;34m(*popenargs, **kwargs)\u001b[0m\n\u001b[1;32m    217\u001b[0m         \u001b[0;32mif\u001b[0m \u001b[0mcmd\u001b[0m \u001b[0;32mis\u001b[0m \u001b[0mNone\u001b[0m\u001b[0;34m:\u001b[0m\u001b[0;34m\u001b[0m\u001b[0m\n\u001b[1;32m    218\u001b[0m             \u001b[0mcmd\u001b[0m \u001b[0;34m=\u001b[0m \u001b[0mpopenargs\u001b[0m\u001b[0;34m[\u001b[0m\u001b[0;36m0\u001b[0m\u001b[0;34m]\u001b[0m\u001b[0;34m\u001b[0m\u001b[0m\n\u001b[0;32m--> 219\u001b[0;31m         \u001b[0;32mraise\u001b[0m \u001b[0mCalledProcessError\u001b[0m\u001b[0;34m(\u001b[0m\u001b[0mretcode\u001b[0m\u001b[0;34m,\u001b[0m \u001b[0mcmd\u001b[0m\u001b[0;34m,\u001b[0m \u001b[0moutput\u001b[0m\u001b[0;34m=\u001b[0m\u001b[0moutput\u001b[0m\u001b[0;34m)\u001b[0m\u001b[0;34m\u001b[0m\u001b[0m\n\u001b[0m\u001b[1;32m    220\u001b[0m     \u001b[0;32mreturn\u001b[0m \u001b[0moutput\u001b[0m\u001b[0;34m\u001b[0m\u001b[0m\n\u001b[1;32m    221\u001b[0m \u001b[0;34m\u001b[0m\u001b[0m\n",
      "\u001b[0;31mCalledProcessError\u001b[0m: Command '['aws', '--profile', 'sandbox', 's3', 'ls', 's3://mousebrainatlas-data/']' returned non-zero exit status 255"
     ]
    }
   ],
   "source": [
    "import subprocess\n",
    "# call('pwd')\n",
    "# subprocess.check_output('pwd')\n",
    "# command = 'ls ..'\n",
    "# subprocess.check_output(command.split())\n",
    "command = 'aws --profile sandbox s3 ls s3://mousebrainatlas-data/'\n",
    "subprocess.check_output(command.split())\n",
    "subprocess.Popen(command.split())"
   ]
  },
  {
   "cell_type": "code",
   "execution_count": 18,
   "metadata": {},
   "outputs": [],
   "source": [
    "#subprocess.check_output(['aws', 's3', 'ls', 's3://mousebrainatlas-data', '--recursive', \\\n",
    " #'--human-readable', '--summarize'])\n",
    "s3_ls = subprocess.check_output(['aws', 's3', 'ls', 's3://mousebrainatlas-data', \\\n",
    "                                  '--human-readable', '--summarize'])\n"
   ]
  },
  {
   "cell_type": "code",
   "execution_count": 17,
   "metadata": {},
   "outputs": [
    {
     "data": {
      "text/plain": [
       "['CSHL_SPM/',\n",
       " 'CSHL_annotation_viz/',\n",
       " 'CSHL_cells_v2/',\n",
       " 'CSHL_classifiers/',\n",
       " 'CSHL_data_processed/',\n",
       " 'CSHL_labelings_thalamus/',\n",
       " 'CSHL_labelings_v3/',\n",
       " 'CSHL_meshes/',\n",
       " 'CSHL_patch_features/',\n",
       " 'CSHL_patch_locations/',\n",
       " 'CSHL_patch_scores/',\n",
       " 'CSHL_registration_parameters/',\n",
       " 'CSHL_registration_visualization/',\n",
       " 'CSHL_registration_visualization_atlasV5/',\n",
       " 'CSHL_registration_viz_juxtaposed/',\n",
       " 'CSHL_scoremap_viz/',\n",
       " 'CSHL_scoremap_viz_grid/',\n",
       " 'CSHL_scoremaps/',\n",
       " 'CSHL_simple_global_registration/',\n",
       " 'CSHL_volumes/',\n",
       " 'Dropbox/',\n",
       " 'HRNTS2017/',\n",
       " 'LGN3Datlas/',\n",
       " 'blob_matching_atlas/',\n",
       " 'brains_info/',\n",
       " 'domain_specs/',\n",
       " 'image_examples/',\n",
       " 'image_examples_raw/',\n",
       " 'jp2_files/',\n",
       " 'lauren_data/',\n",
       " 'mxnet_models/',\n",
       " 'operation_configs/',\n",
       " 'raw_image_histograms/',\n",
       " 'raw_image_histograms_fullImage/',\n",
       " 'raw_image_histograms_log/',\n",
       " 'raw_image_histograms_log_fullImage/',\n",
       " 'stacy_data/',\n",
       " 'training_examples/']"
      ]
     },
     "execution_count": 17,
     "metadata": {},
     "output_type": "execute_result"
    }
   ],
   "source": [
    "p = re.compile(r'PRE (.*)\\n')\n",
    "file_list = p.findall( s3_ls )\n",
    "\n",
    "for "
   ]
  },
  {
   "cell_type": "code",
   "execution_count": 5,
   "metadata": {},
   "outputs": [
    {
     "name": "stdout",
     "output_type": "stream",
     "text": [
      "SUCCESS\n"
     ]
    }
   ],
   "source": [
    "import os\n",
    "import subprocess\n",
    "#subprocess.check_output('pwd')\n",
    "\n",
    "from_s3_fp = 'mousebrainatlas-data/CSHL_data_processed/MD662/\\\n",
    "MD662_prep2_raw_NtbNormalizedAdaptiveInvertedGamma/'\n",
    "\n",
    "local_store_fp = '/Users/newberry/Desktop/holding/'\n",
    "\n",
    "to_fp = '/media/alexn/BstemAtlasDataBackup/CSHL_data_processed/MD662/\\\n",
    "MD662_prep2_raw_NtbNormalizedAdaptiveInvertedGamma/'\n",
    "to_fp_ip = 'alexn@132.239.73.85:' + to_fp\n",
    "\n",
    "include_only = '*_0298_*'\n",
    "include_only = 'MD662&661-F100-2017.06.06-21.40.10_MD662_1_0298*'\n",
    "\n",
    "# From S3 to local storage\n",
    "command1 = 'aws s3 cp --recursive \\\"s3://%(from_fp)s\\\" \\\"%(to_fp)s\\\" \\\n",
    "--exclude \\\"*\\\" --include \\\"%(include)s\\\"'% dict(from_fp = from_s3_fp, \\\n",
    "                                                 to_fp = local_store_fp, include = include_only)\n",
    "return_status = os.system( command1 )\n",
    "if return_status == 0:\n",
    "    print 'SUCCESS'\n"
   ]
  },
  {
   "cell_type": "code",
   "execution_count": null,
   "metadata": {
    "collapsed": true
   },
   "outputs": [],
   "source": []
  }
 ],
 "metadata": {
  "kernelspec": {
   "display_name": "Python 2",
   "language": "python",
   "name": "python2"
  },
  "language_info": {
   "codemirror_mode": {
    "name": "ipython",
    "version": 2
   },
   "file_extension": ".py",
   "mimetype": "text/x-python",
   "name": "python",
   "nbconvert_exporter": "python",
   "pygments_lexer": "ipython2",
   "version": "2.7.14"
  }
 },
 "nbformat": 4,
 "nbformat_minor": 2
}
