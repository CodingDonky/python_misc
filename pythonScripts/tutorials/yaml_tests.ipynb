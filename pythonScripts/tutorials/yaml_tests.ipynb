{
 "cells": [
  {
   "cell_type": "code",
   "execution_count": 1,
   "metadata": {},
   "outputs": [
    {
     "name": "stdout",
     "output_type": "stream",
     "text": [
      "Entire Doc:\n",
      "[{'martin': {'skills': ['python', 'perl', 'pascal'], 'job': 'Developer', 'name': \"Martin D'vloper\"}}, {'tabitha': {'skills': ['lisp', 'fortran', 'erlang'], 'job': 'Developer', 'name': 'Tabitha Bitumen'}}]\n",
      "\n",
      "doc[0]\n",
      "{'martin': {'skills': ['python', 'perl', 'pascal'], 'job': 'Developer', 'name': \"Martin D'vloper\"}}\n",
      "\n",
      "doc[0]['martin']\n",
      "{'skills': ['python', 'perl', 'pascal'], 'job': 'Developer', 'name': \"Martin D'vloper\"}\n",
      "\n",
      "doc[0]['martin']['skills']\n",
      "['python', 'perl', 'pascal']\n",
      "\n",
      "doc[0]['martin']['job']\n",
      "Developer\n"
     ]
    }
   ],
   "source": [
    "import yaml\n",
    "with open('employee.yml', 'r') as f:\n",
    "    doc = yaml.load(f)\n",
    "    \n",
    "print 'Entire Doc:'\n",
    "print doc\n",
    "\n",
    "print ''\n",
    "print 'doc[0]'\n",
    "print doc[0]\n",
    "\n",
    "print ''\n",
    "print 'doc[0][\\'martin\\']'\n",
    "print doc[0]['martin']\n",
    "\n",
    "print ''\n",
    "print 'doc[0][\\'martin\\'][\\'skills\\']'\n",
    "print doc[0]['martin']['skills']\n",
    "\n",
    "print ''\n",
    "print 'doc[0][\\'martin\\'][\\'job\\']'\n",
    "print doc[0]['martin']['job']"
   ]
  },
  {
   "cell_type": "code",
   "execution_count": 29,
   "metadata": {},
   "outputs": [
    {
     "name": "stdout",
     "output_type": "stream",
     "text": [
      "{'raw': {'path': 'CSHL_data/', 'name': '_raw'}}\n",
      "{'path': 'CSHL_data/', 'name': '_raw'}\n",
      "{'raw': {'path': 'CSHL_data/', 'name': '_raw'}}\n"
     ]
    }
   ],
   "source": [
    "with open('filepaths.yml', 'r') as f:\n",
    "    doc = yaml.load(f)\n",
    "    \n",
    "print doc[0]\n",
    "\n",
    "print doc[0]['raw']\n",
    "\n",
    "print doc[0]"
   ]
  },
  {
   "cell_type": "code",
   "execution_count": 19,
   "metadata": {},
   "outputs": [
    {
     "data": {
      "text/plain": [
       "{0: {'raw': {'name': '_raw', 'path': 'CSHL_data/'}},\n",
       " 1: {'normalized': {'name': '_ntbNormalized',\n",
       "   'path': 'CSHL_data_processed/ntb_normalized/'}},\n",
       " 2: {'mask': {'name': '_mask', 'path': 'CSHL_data_processed/masks/'}}}"
      ]
     },
     "execution_count": 19,
     "metadata": {},
     "output_type": "execute_result"
    }
   ],
   "source": [
    "new_dict"
   ]
  },
  {
   "cell_type": "code",
   "execution_count": 20,
   "metadata": {},
   "outputs": [
    {
     "data": {
      "text/plain": [
       "{'raw': {'name': '_raw', 'path': 'CSHL_data/'}}"
      ]
     },
     "execution_count": 20,
     "metadata": {},
     "output_type": "execute_result"
    }
   ],
   "source": [
    "new_dict[0]"
   ]
  },
  {
   "cell_type": "code",
   "execution_count": null,
   "metadata": {
    "collapsed": true
   },
   "outputs": [],
   "source": []
  }
 ],
 "metadata": {
  "kernelspec": {
   "display_name": "Python 2",
   "language": "python",
   "name": "python2"
  },
  "language_info": {
   "codemirror_mode": {
    "name": "ipython",
    "version": 2
   },
   "file_extension": ".py",
   "mimetype": "text/x-python",
   "name": "python",
   "nbconvert_exporter": "python",
   "pygments_lexer": "ipython2",
   "version": "2.7.14"
  }
 },
 "nbformat": 4,
 "nbformat_minor": 2
}
